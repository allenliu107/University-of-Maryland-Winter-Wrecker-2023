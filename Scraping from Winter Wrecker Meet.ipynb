{
 "cells": [
  {
   "cell_type": "code",
   "execution_count": 107,
   "id": "0a12c5bb",
   "metadata": {},
   "outputs": [],
   "source": [
    "#10.1 the web page I found is the results from my Winter Wrecker Powerlifting Meet"
   ]
  },
  {
   "cell_type": "code",
   "execution_count": 108,
   "id": "fb7b2c9d",
   "metadata": {},
   "outputs": [],
   "source": [
    "#10.2 I use bs4 to scrape a simple web page"
   ]
  },
  {
   "cell_type": "code",
   "execution_count": 109,
   "id": "70a2aa2b",
   "metadata": {},
   "outputs": [],
   "source": [
    "#10.3 I use polite code and I will be describing my approach below"
   ]
  },
  {
   "cell_type": "code",
   "execution_count": 110,
   "id": "5a89ec0e",
   "metadata": {},
   "outputs": [],
   "source": [
    "from bs4 import BeautifulSoup\n",
    "import requests"
   ]
  },
  {
   "cell_type": "code",
   "execution_count": 111,
   "id": "ee81639d",
   "metadata": {
    "scrolled": true
   },
   "outputs": [],
   "source": [
    "url = 'https://www.openpowerlifting.org/m/usapl/VA-2023-17'"
   ]
  },
  {
   "cell_type": "code",
   "execution_count": 112,
   "id": "e472268c",
   "metadata": {},
   "outputs": [],
   "source": [
    "#I make sure that the data from the website is readable"
   ]
  },
  {
   "cell_type": "code",
   "execution_count": 113,
   "id": "cd1b2370",
   "metadata": {
    "scrolled": true
   },
   "outputs": [],
   "source": [
    "page = requests.get(url)"
   ]
  },
  {
   "cell_type": "code",
   "execution_count": 114,
   "id": "e29423bf",
   "metadata": {},
   "outputs": [],
   "source": [
    "#selecting all the data\n",
    "table = BeautifulSoup(page.text, 'html')"
   ]
  },
  {
   "cell_type": "code",
   "execution_count": 115,
   "id": "a7106462",
   "metadata": {
    "scrolled": true
   },
   "outputs": [],
   "source": [
    "#selecting all the headers\n",
    "header_titles = table.find_all('th')"
   ]
  },
  {
   "cell_type": "code",
   "execution_count": 116,
   "id": "43301256",
   "metadata": {},
   "outputs": [
    {
     "data": {
      "text/plain": [
       "[<th>Rank</th>,\n",
       " <th>Lifter</th>,\n",
       " <th>Sex</th>,\n",
       " <th>Age</th>,\n",
       " <th>Equip</th>,\n",
       " <th>Class</th>,\n",
       " <th>Weight</th>,\n",
       " <th>Squat</th>,\n",
       " <th>Bench</th>,\n",
       " <th>Deadlift</th>,\n",
       " <th>Total</th>,\n",
       " <th>Dots</th>]"
      ]
     },
     "execution_count": 116,
     "metadata": {},
     "output_type": "execute_result"
    }
   ],
   "source": [
    "header_titles"
   ]
  },
  {
   "cell_type": "code",
   "execution_count": 117,
   "id": "89616cf8",
   "metadata": {},
   "outputs": [
    {
     "name": "stdout",
     "output_type": "stream",
     "text": [
      "['Rank', 'Lifter', 'Sex', 'Age', 'Equip', 'Class', 'Weight', 'Squat', 'Bench', 'Deadlift', 'Total', 'Dots']\n"
     ]
    }
   ],
   "source": [
    "#selecting the text from the headers\n",
    "header_table_titles = [title.text for title in header_titles]\n",
    "\n",
    "print(header_table_titles)"
   ]
  },
  {
   "cell_type": "code",
   "execution_count": 118,
   "id": "4eb13992",
   "metadata": {},
   "outputs": [],
   "source": [
    "import pandas as pd"
   ]
  },
  {
   "cell_type": "code",
   "execution_count": 119,
   "id": "7f7b828f",
   "metadata": {
    "scrolled": true
   },
   "outputs": [
    {
     "data": {
      "text/html": [
       "<div>\n",
       "<style scoped>\n",
       "    .dataframe tbody tr th:only-of-type {\n",
       "        vertical-align: middle;\n",
       "    }\n",
       "\n",
       "    .dataframe tbody tr th {\n",
       "        vertical-align: top;\n",
       "    }\n",
       "\n",
       "    .dataframe thead th {\n",
       "        text-align: right;\n",
       "    }\n",
       "</style>\n",
       "<table border=\"1\" class=\"dataframe\">\n",
       "  <thead>\n",
       "    <tr style=\"text-align: right;\">\n",
       "      <th></th>\n",
       "      <th>Rank</th>\n",
       "      <th>Lifter</th>\n",
       "      <th>Sex</th>\n",
       "      <th>Age</th>\n",
       "      <th>Equip</th>\n",
       "      <th>Class</th>\n",
       "      <th>Weight</th>\n",
       "      <th>Squat</th>\n",
       "      <th>Bench</th>\n",
       "      <th>Deadlift</th>\n",
       "      <th>Total</th>\n",
       "      <th>Dots</th>\n",
       "    </tr>\n",
       "  </thead>\n",
       "  <tbody>\n",
       "  </tbody>\n",
       "</table>\n",
       "</div>"
      ],
      "text/plain": [
       "Empty DataFrame\n",
       "Columns: [Rank, Lifter, Sex, Age, Equip, Class, Weight, Squat, Bench, Deadlift, Total, Dots]\n",
       "Index: []"
      ]
     },
     "execution_count": 119,
     "metadata": {},
     "output_type": "execute_result"
    }
   ],
   "source": [
    "#making data frame\n",
    "df = pd.DataFrame(columns = header_table_titles)\n",
    "\n",
    "df"
   ]
  },
  {
   "cell_type": "code",
   "execution_count": 120,
   "id": "4354af6b",
   "metadata": {},
   "outputs": [],
   "source": [
    "#getting my rows of data for my data frame\n",
    "column_data = table.find_all('tr')"
   ]
  },
  {
   "cell_type": "code",
   "execution_count": 121,
   "id": "62d86611",
   "metadata": {},
   "outputs": [],
   "source": [
    "#putting all lifters data into the data frame\n",
    "for row in column_data[1:]:\n",
    "    row_data = row.find_all('td')\n",
    "    individual_row_data = [data.text.strip() for data in row_data]\n",
    "    \n",
    "    length = len(df)\n",
    "    df.loc[length] = individual_row_data"
   ]
  },
  {
   "cell_type": "code",
   "execution_count": 122,
   "id": "71bad177",
   "metadata": {},
   "outputs": [
    {
     "data": {
      "text/html": [
       "<div>\n",
       "<style scoped>\n",
       "    .dataframe tbody tr th:only-of-type {\n",
       "        vertical-align: middle;\n",
       "    }\n",
       "\n",
       "    .dataframe tbody tr th {\n",
       "        vertical-align: top;\n",
       "    }\n",
       "\n",
       "    .dataframe thead th {\n",
       "        text-align: right;\n",
       "    }\n",
       "</style>\n",
       "<table border=\"1\" class=\"dataframe\">\n",
       "  <thead>\n",
       "    <tr style=\"text-align: right;\">\n",
       "      <th></th>\n",
       "      <th>Rank</th>\n",
       "      <th>Lifter</th>\n",
       "      <th>Sex</th>\n",
       "      <th>Age</th>\n",
       "      <th>Equip</th>\n",
       "      <th>Class</th>\n",
       "      <th>Weight</th>\n",
       "      <th>Squat</th>\n",
       "      <th>Bench</th>\n",
       "      <th>Deadlift</th>\n",
       "      <th>Total</th>\n",
       "      <th>Dots</th>\n",
       "    </tr>\n",
       "  </thead>\n",
       "  <tbody>\n",
       "    <tr>\n",
       "      <th>0</th>\n",
       "      <td>1</td>\n",
       "      <td>Bomnorng Tek</td>\n",
       "      <td>M</td>\n",
       "      <td>31~</td>\n",
       "      <td>Raw</td>\n",
       "      <td>90</td>\n",
       "      <td>85.3</td>\n",
       "      <td>280</td>\n",
       "      <td>187.5</td>\n",
       "      <td>295</td>\n",
       "      <td>762.5</td>\n",
       "      <td>507.05</td>\n",
       "    </tr>\n",
       "    <tr>\n",
       "      <th>1</th>\n",
       "      <td>2</td>\n",
       "      <td>Zachary Broderick</td>\n",
       "      <td>M</td>\n",
       "      <td>27~</td>\n",
       "      <td>Raw</td>\n",
       "      <td>90</td>\n",
       "      <td>84.6</td>\n",
       "      <td>257.5</td>\n",
       "      <td>185</td>\n",
       "      <td>300</td>\n",
       "      <td>742.5</td>\n",
       "      <td>495.97</td>\n",
       "    </tr>\n",
       "    <tr>\n",
       "      <th>2</th>\n",
       "      <td>3</td>\n",
       "      <td>Gaoussou Coulibaly</td>\n",
       "      <td>M</td>\n",
       "      <td>22</td>\n",
       "      <td>Raw</td>\n",
       "      <td>100</td>\n",
       "      <td>94.8</td>\n",
       "      <td>260</td>\n",
       "      <td>187.5</td>\n",
       "      <td>325</td>\n",
       "      <td>772.5</td>\n",
       "      <td>487.06</td>\n",
       "    </tr>\n",
       "    <tr>\n",
       "      <th>3</th>\n",
       "      <td>4</td>\n",
       "      <td>Mason Sarra</td>\n",
       "      <td>M</td>\n",
       "      <td>20~</td>\n",
       "      <td>Raw</td>\n",
       "      <td>82.5</td>\n",
       "      <td>82.4</td>\n",
       "      <td>260</td>\n",
       "      <td>165</td>\n",
       "      <td>287.5</td>\n",
       "      <td>712.5</td>\n",
       "      <td>482.97</td>\n",
       "    </tr>\n",
       "    <tr>\n",
       "      <th>4</th>\n",
       "      <td>5</td>\n",
       "      <td>Evan Dunne</td>\n",
       "      <td>M</td>\n",
       "      <td>27~</td>\n",
       "      <td>Raw</td>\n",
       "      <td>90</td>\n",
       "      <td>87.5</td>\n",
       "      <td>275</td>\n",
       "      <td>175</td>\n",
       "      <td>275</td>\n",
       "      <td>725</td>\n",
       "      <td>475.62</td>\n",
       "    </tr>\n",
       "    <tr>\n",
       "      <th>...</th>\n",
       "      <td>...</td>\n",
       "      <td>...</td>\n",
       "      <td>...</td>\n",
       "      <td>...</td>\n",
       "      <td>...</td>\n",
       "      <td>...</td>\n",
       "      <td>...</td>\n",
       "      <td>...</td>\n",
       "      <td>...</td>\n",
       "      <td>...</td>\n",
       "      <td>...</td>\n",
       "      <td>...</td>\n",
       "    </tr>\n",
       "    <tr>\n",
       "      <th>180</th>\n",
       "      <td>181</td>\n",
       "      <td>Amy Knieriem</td>\n",
       "      <td>F</td>\n",
       "      <td>59~</td>\n",
       "      <td>Raw</td>\n",
       "      <td>67.5</td>\n",
       "      <td>66.3</td>\n",
       "      <td>67.5</td>\n",
       "      <td>40</td>\n",
       "      <td>97.5</td>\n",
       "      <td>205</td>\n",
       "      <td>213.86</td>\n",
       "    </tr>\n",
       "    <tr>\n",
       "      <th>181</th>\n",
       "      <td>182</td>\n",
       "      <td>Charles Bramble</td>\n",
       "      <td>M</td>\n",
       "      <td>65~</td>\n",
       "      <td>Raw</td>\n",
       "      <td>100</td>\n",
       "      <td>99.1</td>\n",
       "      <td>115</td>\n",
       "      <td>75</td>\n",
       "      <td>145</td>\n",
       "      <td>335</td>\n",
       "      <td>207.01</td>\n",
       "    </tr>\n",
       "    <tr>\n",
       "      <th>182</th>\n",
       "      <td>DQ</td>\n",
       "      <td>Brandon Cadena</td>\n",
       "      <td>M</td>\n",
       "      <td>21~</td>\n",
       "      <td>Raw</td>\n",
       "      <td>82.5</td>\n",
       "      <td>80.1</td>\n",
       "      <td>177.5</td>\n",
       "      <td></td>\n",
       "      <td>225</td>\n",
       "      <td></td>\n",
       "      <td></td>\n",
       "    </tr>\n",
       "    <tr>\n",
       "      <th>183</th>\n",
       "      <td>DQ</td>\n",
       "      <td>Sameer Rahman</td>\n",
       "      <td>M</td>\n",
       "      <td>22~</td>\n",
       "      <td>Raw</td>\n",
       "      <td>75</td>\n",
       "      <td>71.7</td>\n",
       "      <td></td>\n",
       "      <td>130</td>\n",
       "      <td>210</td>\n",
       "      <td></td>\n",
       "      <td></td>\n",
       "    </tr>\n",
       "    <tr>\n",
       "      <th>184</th>\n",
       "      <td>DQ</td>\n",
       "      <td>Justin Dubon Cinco</td>\n",
       "      <td>M</td>\n",
       "      <td>18~</td>\n",
       "      <td>Raw</td>\n",
       "      <td>90</td>\n",
       "      <td>89.9</td>\n",
       "      <td></td>\n",
       "      <td></td>\n",
       "      <td></td>\n",
       "      <td></td>\n",
       "      <td></td>\n",
       "    </tr>\n",
       "  </tbody>\n",
       "</table>\n",
       "<p>185 rows × 12 columns</p>\n",
       "</div>"
      ],
      "text/plain": [
       "    Rank              Lifter Sex  Age Equip Class Weight  Squat  Bench  \\\n",
       "0      1        Bomnorng Tek   M  31~   Raw    90   85.3    280  187.5   \n",
       "1      2   Zachary Broderick   M  27~   Raw    90   84.6  257.5    185   \n",
       "2      3  Gaoussou Coulibaly   M   22   Raw   100   94.8    260  187.5   \n",
       "3      4         Mason Sarra   M  20~   Raw  82.5   82.4    260    165   \n",
       "4      5          Evan Dunne   M  27~   Raw    90   87.5    275    175   \n",
       "..   ...                 ...  ..  ...   ...   ...    ...    ...    ...   \n",
       "180  181        Amy Knieriem   F  59~   Raw  67.5   66.3   67.5     40   \n",
       "181  182     Charles Bramble   M  65~   Raw   100   99.1    115     75   \n",
       "182   DQ      Brandon Cadena   M  21~   Raw  82.5   80.1  177.5          \n",
       "183   DQ       Sameer Rahman   M  22~   Raw    75   71.7           130   \n",
       "184   DQ  Justin Dubon Cinco   M  18~   Raw    90   89.9                 \n",
       "\n",
       "    Deadlift  Total    Dots  \n",
       "0        295  762.5  507.05  \n",
       "1        300  742.5  495.97  \n",
       "2        325  772.5  487.06  \n",
       "3      287.5  712.5  482.97  \n",
       "4        275    725  475.62  \n",
       "..       ...    ...     ...  \n",
       "180     97.5    205  213.86  \n",
       "181      145    335  207.01  \n",
       "182      225                 \n",
       "183      210                 \n",
       "184                          \n",
       "\n",
       "[185 rows x 12 columns]"
      ]
     },
     "execution_count": 122,
     "metadata": {},
     "output_type": "execute_result"
    }
   ],
   "source": [
    "df"
   ]
  },
  {
   "cell_type": "code",
   "execution_count": 123,
   "id": "bb11ed7a",
   "metadata": {},
   "outputs": [],
   "source": [
    "#create csv file\n",
    "df.to_csv(r'\\Users\\allen\\Documents\\Python\\INST 126\\Final Project\\WinterWrecker.csv', index = False)"
   ]
  }
 ],
 "metadata": {
  "kernelspec": {
   "display_name": "Python 3 (ipykernel)",
   "language": "python",
   "name": "python3"
  },
  "language_info": {
   "codemirror_mode": {
    "name": "ipython",
    "version": 3
   },
   "file_extension": ".py",
   "mimetype": "text/x-python",
   "name": "python",
   "nbconvert_exporter": "python",
   "pygments_lexer": "ipython3",
   "version": "3.11.5"
  }
 },
 "nbformat": 4,
 "nbformat_minor": 5
}
